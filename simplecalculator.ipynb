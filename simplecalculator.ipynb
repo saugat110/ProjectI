{
  "nbformat": 4,
  "nbformat_minor": 0,
  "metadata": {
    "colab": {
      "provenance": [],
      "authorship_tag": "ABX9TyOSb7rTHxuyvW5o5bcTQAOw",
      "include_colab_link": true
    },
    "kernelspec": {
      "name": "python3",
      "display_name": "Python 3"
    },
    "language_info": {
      "name": "python"
    }
  },
  "cells": [
    {
      "cell_type": "markdown",
      "metadata": {
        "id": "view-in-github",
        "colab_type": "text"
      },
      "source": [
        "<a href=\"https://colab.research.google.com/github/saugat110/ProjectI/blob/master/simplecalculator.ipynb\" target=\"_parent\"><img src=\"https://colab.research.google.com/assets/colab-badge.svg\" alt=\"Open In Colab\"/></a>"
      ]
    },
    {
      "cell_type": "code",
      "execution_count": null,
      "metadata": {
        "id": "2Jywlm4aa4SR"
      },
      "outputs": [],
      "source": [
        "num1 = float(input(\"Enter first number: \"))\n",
        "num2 = float(input(\"Enter second number: \"))\n",
        "operation = input(\"Choose operation (+, -, *, /): \")\n",
        "\n",
        "if operation == '+':\n",
        "    result = num1 + num2\n",
        "elif operation == '-':\n",
        "    result = num1 - num2\n",
        "elif operation == '*':\n",
        "    result = num1 * num2\n",
        "elif operation == '/':\n",
        "    result = num1 / num2\n",
        "else:\n",
        "    result = \"Invalid operation\"\n",
        "\n",
        "print(\"Result:\", result)\n"
      ]
    }
  ]
}